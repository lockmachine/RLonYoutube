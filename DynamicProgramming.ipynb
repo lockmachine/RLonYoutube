{
 "cells": [
  {
   "cell_type": "code",
   "execution_count": 1,
   "metadata": {},
   "outputs": [],
   "source": [
    "import gym\n",
    "import pandas as pd"
   ]
  },
  {
   "cell_type": "code",
   "execution_count": 2,
   "metadata": {},
   "outputs": [
    {
     "name": "stdout",
     "output_type": "stream",
     "text": [
      "\n",
      "\u001b[41mS\u001b[0mFFF\n",
      "FHFH\n",
      "FFFH\n",
      "HFFG\n"
     ]
    }
   ],
   "source": [
    "env = gym.make(\"FrozenLake-v0\")\n",
    "env.render()"
   ]
  },
  {
   "cell_type": "markdown",
   "metadata": {},
   "source": [
    "どんな変数があるか確認する"
   ]
  },
  {
   "cell_type": "code",
   "execution_count": 3,
   "metadata": {},
   "outputs": [
    {
     "data": {
      "text/plain": [
       "array([[b'S', b'F', b'F', b'F'],\n",
       "       [b'F', b'H', b'F', b'H'],\n",
       "       [b'F', b'F', b'F', b'H'],\n",
       "       [b'H', b'F', b'F', b'G']], dtype='|S1')"
      ]
     },
     "execution_count": 3,
     "metadata": {},
     "output_type": "execute_result"
    }
   ],
   "source": [
    "# それぞれのマスの型が入っている\n",
    "env.desc"
   ]
  },
  {
   "cell_type": "code",
   "execution_count": 4,
   "metadata": {},
   "outputs": [
    {
     "data": {
      "text/plain": [
       "b'F'"
      ]
     },
     "execution_count": 4,
     "metadata": {},
     "output_type": "execute_result"
    }
   ],
   "source": [
    "env.desc[1][2]"
   ]
  },
  {
   "cell_type": "code",
   "execution_count": 5,
   "metadata": {},
   "outputs": [
    {
     "data": {
      "text/plain": [
       "4"
      ]
     },
     "execution_count": 5,
     "metadata": {},
     "output_type": "execute_result"
    }
   ],
   "source": [
    "env.ncol"
   ]
  },
  {
   "cell_type": "code",
   "execution_count": 6,
   "metadata": {},
   "outputs": [
    {
     "data": {
      "text/plain": [
       "4"
      ]
     },
     "execution_count": 6,
     "metadata": {},
     "output_type": "execute_result"
    }
   ],
   "source": [
    "env.nrow"
   ]
  },
  {
   "cell_type": "code",
   "execution_count": 7,
   "metadata": {},
   "outputs": [
    {
     "data": {
      "text/plain": [
       "16"
      ]
     },
     "execution_count": 7,
     "metadata": {},
     "output_type": "execute_result"
    }
   ],
   "source": [
    "env.nS"
   ]
  },
  {
   "cell_type": "markdown",
   "metadata": {},
   "source": [
    "状態s:どのマスにいるか"
   ]
  },
  {
   "cell_type": "code",
   "execution_count": 8,
   "metadata": {},
   "outputs": [
    {
     "data": {
      "text/plain": [
       "4"
      ]
     },
     "execution_count": 8,
     "metadata": {},
     "output_type": "execute_result"
    }
   ],
   "source": [
    "env.nA"
   ]
  },
  {
   "cell_type": "code",
   "execution_count": 9,
   "metadata": {},
   "outputs": [
    {
     "name": "stdout",
     "output_type": "stream",
     "text": [
      "['__class__', '__delattr__', '__dict__', '__dir__', '__doc__', '__enter__', '__eq__', '__exit__', '__format__', '__ge__', '__getattr__', '__getattribute__', '__gt__', '__hash__', '__init__', '__init_subclass__', '__le__', '__lt__', '__module__', '__ne__', '__new__', '__reduce__', '__reduce_ex__', '__repr__', '__setattr__', '__sizeof__', '__str__', '__subclasshook__', '__weakref__', '_elapsed_steps', '_max_episode_steps', 'action_space', 'class_name', 'close', 'compute_reward', 'env', 'metadata', 'observation_space', 'render', 'reset', 'reward_range', 'seed', 'spec', 'step', 'unwrapped']\n"
     ]
    }
   ],
   "source": [
    "print(dir(env))"
   ]
  },
  {
   "cell_type": "code",
   "execution_count": 10,
   "metadata": {},
   "outputs": [
    {
     "name": "stdout",
     "output_type": "stream",
     "text": [
      "('__class__', <class 'gym.wrappers.time_limit.TimeLimit'>)\n",
      "('__delattr__', <method-wrapper '__delattr__' of TimeLimit object at 0x7fee403eeca0>)\n",
      "('__dict__', {'env': <gym.envs.toy_text.frozen_lake.FrozenLakeEnv object at 0x7fee403eec70>, 'action_space': Discrete(4), 'observation_space': Discrete(16), 'reward_range': (0, 1), 'metadata': {'render.modes': ['human', 'ansi']}, '_max_episode_steps': 100, '_elapsed_steps': None})\n",
      "('__dir__', <built-in method __dir__ of TimeLimit object at 0x7fee403eeca0>)\n",
      "('__doc__', None)\n",
      "('__enter__', <bound method Env.__enter__ of <TimeLimit<FrozenLakeEnv<FrozenLake-v0>>>>)\n",
      "('__eq__', <method-wrapper '__eq__' of TimeLimit object at 0x7fee403eeca0>)\n",
      "('__exit__', <bound method Env.__exit__ of <TimeLimit<FrozenLakeEnv<FrozenLake-v0>>>>)\n",
      "('__format__', <built-in method __format__ of TimeLimit object at 0x7fee403eeca0>)\n",
      "('__ge__', <method-wrapper '__ge__' of TimeLimit object at 0x7fee403eeca0>)\n",
      "('__getattr__', <bound method Wrapper.__getattr__ of <TimeLimit<FrozenLakeEnv<FrozenLake-v0>>>>)\n",
      "('__getattribute__', <method-wrapper '__getattribute__' of TimeLimit object at 0x7fee403eeca0>)\n",
      "('__gt__', <method-wrapper '__gt__' of TimeLimit object at 0x7fee403eeca0>)\n",
      "('__hash__', <method-wrapper '__hash__' of TimeLimit object at 0x7fee403eeca0>)\n",
      "('__init__', <bound method TimeLimit.__init__ of <TimeLimit<FrozenLakeEnv<FrozenLake-v0>>>>)\n",
      "('__init_subclass__', <built-in method __init_subclass__ of type object at 0x55b59df4ab40>)\n",
      "('__le__', <method-wrapper '__le__' of TimeLimit object at 0x7fee403eeca0>)\n",
      "('__lt__', <method-wrapper '__lt__' of TimeLimit object at 0x7fee403eeca0>)\n",
      "('__module__', 'gym.wrappers.time_limit')\n",
      "('__ne__', <method-wrapper '__ne__' of TimeLimit object at 0x7fee403eeca0>)\n",
      "('__new__', <built-in method __new__ of type object at 0x55b59bb71c60>)\n",
      "('__reduce__', <built-in method __reduce__ of TimeLimit object at 0x7fee403eeca0>)\n",
      "('__reduce_ex__', <built-in method __reduce_ex__ of TimeLimit object at 0x7fee403eeca0>)\n",
      "('__repr__', <bound method Wrapper.__repr__ of <TimeLimit<FrozenLakeEnv<FrozenLake-v0>>>>)\n",
      "('__setattr__', <method-wrapper '__setattr__' of TimeLimit object at 0x7fee403eeca0>)\n",
      "('__sizeof__', <built-in method __sizeof__ of TimeLimit object at 0x7fee403eeca0>)\n",
      "('__str__', <bound method Wrapper.__str__ of <TimeLimit<FrozenLakeEnv<FrozenLake-v0>>>>)\n",
      "('__subclasshook__', <built-in method __subclasshook__ of type object at 0x55b59df4ab40>)\n",
      "('__weakref__', None)\n",
      "('_elapsed_steps', None)\n",
      "('_max_episode_steps', 100)\n",
      "('action_space', Discrete(4))\n",
      "('class_name', <bound method Wrapper.class_name of <class 'gym.wrappers.time_limit.TimeLimit'>>)\n",
      "('close', <bound method Wrapper.close of <TimeLimit<FrozenLakeEnv<FrozenLake-v0>>>>)\n",
      "('compute_reward', <bound method Wrapper.compute_reward of <TimeLimit<FrozenLakeEnv<FrozenLake-v0>>>>)\n",
      "('env', <gym.envs.toy_text.frozen_lake.FrozenLakeEnv object at 0x7fee403eec70>)\n",
      "('metadata', {'render.modes': ['human', 'ansi']})\n",
      "('observation_space', Discrete(16))\n",
      "('render', <bound method Wrapper.render of <TimeLimit<FrozenLakeEnv<FrozenLake-v0>>>>)\n",
      "('reset', <bound method TimeLimit.reset of <TimeLimit<FrozenLakeEnv<FrozenLake-v0>>>>)\n",
      "('reward_range', (0, 1))\n",
      "('seed', <bound method Wrapper.seed of <TimeLimit<FrozenLakeEnv<FrozenLake-v0>>>>)\n",
      "('spec', EnvSpec(FrozenLake-v0))\n",
      "('step', <bound method TimeLimit.step of <TimeLimit<FrozenLakeEnv<FrozenLake-v0>>>>)\n",
      "('unwrapped', <gym.envs.toy_text.frozen_lake.FrozenLakeEnv object at 0x7fee403eec70>)\n"
     ]
    }
   ],
   "source": [
    "import inspect\n",
    "for method in inspect.getmembers(env):\n",
    "    print(method)"
   ]
  },
  {
   "cell_type": "code",
   "execution_count": 11,
   "metadata": {},
   "outputs": [
    {
     "name": "stdout",
     "output_type": "stream",
     "text": [
      "{'env': <gym.envs.toy_text.frozen_lake.FrozenLakeEnv object at 0x7fee403eec70>, 'action_space': Discrete(4), 'observation_space': Discrete(16), 'reward_range': (0, 1), 'metadata': {'render.modes': ['human', 'ansi']}, '_max_episode_steps': 100, '_elapsed_steps': None}\n"
     ]
    }
   ],
   "source": [
    "print(vars(env))"
   ]
  },
  {
   "cell_type": "markdown",
   "metadata": {},
   "source": [
    "行動a:どの方向に、「進みたい」と思うか。0:left,1:down,2:right,3:up"
   ]
  },
  {
   "cell_type": "code",
   "execution_count": 12,
   "metadata": {},
   "outputs": [
    {
     "name": "stdout",
     "output_type": "stream",
     "text": [
      "  (Left)\n",
      "SFFF\n",
      "\u001b[41mF\u001b[0mHFH\n",
      "FFFH\n",
      "HFFG\n"
     ]
    }
   ],
   "source": [
    "env.reset()\n",
    "env.step(0)\n",
    "env.render()"
   ]
  },
  {
   "cell_type": "code",
   "execution_count": 13,
   "metadata": {},
   "outputs": [
    {
     "data": {
      "text/plain": [
       "0"
      ]
     },
     "execution_count": 13,
     "metadata": {},
     "output_type": "execute_result"
    }
   ],
   "source": [
    "env.reset()"
   ]
  },
  {
   "cell_type": "code",
   "execution_count": 14,
   "metadata": {},
   "outputs": [
    {
     "name": "stdout",
     "output_type": "stream",
     "text": [
      "  (Down)\n",
      "\u001b[41mS\u001b[0mFFF\n",
      "FHFH\n",
      "FFFH\n",
      "HFFG\n"
     ]
    }
   ],
   "source": [
    "env.step(1)\n",
    "env.render()"
   ]
  },
  {
   "cell_type": "code",
   "execution_count": 15,
   "metadata": {},
   "outputs": [
    {
     "name": "stdout",
     "output_type": "stream",
     "text": [
      "  (Right)\n",
      "SFFF\n",
      "\u001b[41mF\u001b[0mHFH\n",
      "FFFH\n",
      "HFFG\n"
     ]
    }
   ],
   "source": [
    "env.step(2)\n",
    "env.render()"
   ]
  },
  {
   "cell_type": "code",
   "execution_count": 16,
   "metadata": {},
   "outputs": [
    {
     "name": "stdout",
     "output_type": "stream",
     "text": [
      "  (Up)\n",
      "SFFF\n",
      "F\u001b[41mH\u001b[0mFH\n",
      "FFFH\n",
      "HFFG\n"
     ]
    }
   ],
   "source": [
    "env.step(3)\n",
    "env.render()"
   ]
  },
  {
   "cell_type": "code",
   "execution_count": 17,
   "metadata": {},
   "outputs": [
    {
     "data": {
      "text/plain": [
       "[(0.3333333333333333, 0, 0.0, False),\n",
       " (0.3333333333333333, 5, 0.0, True),\n",
       " (0.3333333333333333, 2, 0.0, False)]"
      ]
     },
     "execution_count": 17,
     "metadata": {},
     "output_type": "execute_result"
    }
   ],
   "source": [
    "env.P[1][1]"
   ]
  },
  {
   "cell_type": "markdown",
   "metadata": {},
   "source": [
    "P = {s: {a: prob, next_s}}"
   ]
  },
  {
   "cell_type": "markdown",
   "metadata": {},
   "source": [
    "実際にゲームを進めていくコードを書く"
   ]
  },
  {
   "cell_type": "code",
   "execution_count": 18,
   "metadata": {},
   "outputs": [],
   "source": [
    "import pandas as pd\n",
    "\n",
    "class Planner:\n",
    "    # 環境を引数としてインスタンス変数に代入\n",
    "    def __init__(self, env):\n",
    "        self.env = env\n",
    "        \n",
    "    # 状態s（0~15）を受け取って、行列位置に変換するメソッド\n",
    "    def s_to_loc(self, s):\n",
    "        row = s // self.env.ncol\n",
    "        col = s % self.env.ncol\n",
    "        return row, col\n",
    "    \n",
    "    # 状態s（0~15）を受け取って、状態sの報酬を返すメソッド\n",
    "    def reward(self, s):\n",
    "        row, col = self.s_to_loc(s)\n",
    "        if self.env.desc[row][col] == b'H':\n",
    "            return -1\n",
    "        elif self.env.desc[row][col] == b'G':\n",
    "            return 1\n",
    "        else:\n",
    "            return 0"
   ]
  },
  {
   "cell_type": "code",
   "execution_count": 19,
   "metadata": {},
   "outputs": [
    {
     "name": "stdout",
     "output_type": "stream",
     "text": [
      "  (Up)\n",
      "SFFF\n",
      "F\u001b[41mH\u001b[0mFH\n",
      "FFFH\n",
      "HFFG\n"
     ]
    }
   ],
   "source": [
    "# インスタンス生成\n",
    "pl = Planner(env)\n",
    "# インスタンスenvの状態を描画\n",
    "pl.env.render()"
   ]
  },
  {
   "cell_type": "code",
   "execution_count": 20,
   "metadata": {},
   "outputs": [
    {
     "data": {
      "text/plain": [
       "1"
      ]
     },
     "execution_count": 20,
     "metadata": {},
     "output_type": "execute_result"
    }
   ],
   "source": [
    "# インスタンスplの状態s=15における報酬を出力\n",
    "pl.reward(15)"
   ]
  },
  {
   "cell_type": "markdown",
   "metadata": {},
   "source": [
    "## 2.1. 動的計画法\n",
    "* 状態sに対して、価値V(s)を計算する  \n",
    "* 価値が最大になる行動を取る  \n",
    " - 状態の価値:その状態のマスにおける報酬 + マスから最善の行動をしたときにもらえる報酬"
   ]
  },
  {
   "cell_type": "markdown",
   "metadata": {},
   "source": [
    "$R(s)$:状態sでの報酬\n",
    "$$V(s) = R(s) + \\gamma \\max_a \\sum_{s^{\\prime}} T(s^{\\prime} |s, a) V(s^{\\prime})$$\n",
    "\n",
    "T(s'|s,a):sからaという行動をとったときにs'にいける遷移確率\n",
    "V(s'):s'における価値\n",
    "\n",
    "P = {s: {a: prob, next_s}}\n",
    "* 価値反復法\n",
    "\n",
    "最初、V(s)を適当に決める。V0=0とすると\n",
    "$$V_1(s) = R(s)$$\n",
    "$$V_2(s) = R(s) + \\gamma \\max_a \\sum_{s^\\prime} T(s^{\\prime} | s, a)R(s^{\\prime})$$\n",
    "$$V_3(s) = R(s) + \\gamma \\max_a \\sum_{s^\\prime} T(s^{\\prime} | s, a)V_2(s^{\\prime})$$\n",
    "\n",
    "一般化すると、\n",
    "\n",
    "$$V_{i+1}(s) = R(s) + \\gamma \\max_a \\sum_{s^\\prime} T(s^{\\prime} | s, a)V_i(s^{\\prime})$$"
   ]
  },
  {
   "cell_type": "markdown",
   "metadata": {},
   "source": [
    "反復の終了は、\n",
    "$$|V_{i+1}(s) - V_i(s)| < 0.0001$$\n",
    "となったら終了"
   ]
  },
  {
   "cell_type": "code",
   "execution_count": 23,
   "metadata": {},
   "outputs": [],
   "source": [
    "import gym\n",
    "import pandas as pd\n",
    "import time\n",
    "import sys\n",
    "\n",
    "class Planner:\n",
    "    def __init__(self, env):\n",
    "        self.env = env\n",
    "        \n",
    "    def s_to_loc(self, s):\n",
    "        row = s // self.env.ncol\n",
    "        col = s % self.env.ncol\n",
    "        return row, col\n",
    "    \n",
    "    def reward(self, s):\n",
    "        row, col = self.s_to_loc(s)\n",
    "        if self.env.desc[row][col] == b'H':\n",
    "            return -1\n",
    "        elif self.env.desc[row][col] == b'G':\n",
    "            return 1\n",
    "        else:\n",
    "            return 0\n",
    "    \n",
    "    def plan(self, gamma=0.9, threshold=0.0001):\n",
    "        self.env.reset()\n",
    "        V = {}\n",
    "        # 状態の価値をその場所の報酬で初期化\n",
    "        for s in range(self.env.nS):\n",
    "            V[s] = self.reward(s)\n",
    "        while True:\n",
    "            delta = 0\n",
    "            # print(self.dict_to_grid(V))\n",
    "            for s in V:\n",
    "                row, col = self.s_to_loc(s)\n",
    "                if self.env.desc[row][col] in [b'H', b'G']:\n",
    "                    continue\n",
    "                expected_rewards = []\n",
    "                for a in range(self.env.nA):\n",
    "                    r = 0\n",
    "                    for prob, next_s, _, _ in self.env.P[s][a]:\n",
    "                        r += gamma * prob * V[next_s]\n",
    "                    expected_rewards.append(r)\n",
    "                # print('s={}:{}'.format(s,expected_rewards))\n",
    "                max_reward = max(expected_rewards)\n",
    "                new_V = self.reward(s) + max_reward\n",
    "                # |V_i+1 - V_i|\n",
    "                delta = max(delta, abs(new_V - V[s]))\n",
    "                V[s] = new_V\n",
    "            if delta < threshold:\n",
    "                break\n",
    "                \n",
    "        return self.dict_to_grid(V)\n",
    "    \n",
    "    def dict_to_grid(self, V):\n",
    "        grid = []\n",
    "        for i in range(self.env.nrow):\n",
    "            row = [0] * self.env.ncol\n",
    "            grid.append(row)\n",
    "        for s in V:\n",
    "            row, col = self.s_to_loc(s)\n",
    "            grid[row][col] = V[s]\n",
    "        return pd.DataFrame(grid)"
   ]
  },
  {
   "cell_type": "code",
   "execution_count": 24,
   "metadata": {},
   "outputs": [
    {
     "data": {
      "text/html": [
       "<div>\n",
       "<style scoped>\n",
       "    .dataframe tbody tr th:only-of-type {\n",
       "        vertical-align: middle;\n",
       "    }\n",
       "\n",
       "    .dataframe tbody tr th {\n",
       "        vertical-align: top;\n",
       "    }\n",
       "\n",
       "    .dataframe thead th {\n",
       "        text-align: right;\n",
       "    }\n",
       "</style>\n",
       "<table border=\"1\" class=\"dataframe\">\n",
       "  <thead>\n",
       "    <tr style=\"text-align: right;\">\n",
       "      <th></th>\n",
       "      <th>0</th>\n",
       "      <th>1</th>\n",
       "      <th>2</th>\n",
       "      <th>3</th>\n",
       "    </tr>\n",
       "  </thead>\n",
       "  <tbody>\n",
       "    <tr>\n",
       "      <th>0</th>\n",
       "      <td>0.045684</td>\n",
       "      <td>0.026631</td>\n",
       "      <td>0.016628</td>\n",
       "      <td>0.01234</td>\n",
       "    </tr>\n",
       "    <tr>\n",
       "      <th>1</th>\n",
       "      <td>0.061139</td>\n",
       "      <td>-1.000000</td>\n",
       "      <td>-0.252228</td>\n",
       "      <td>-1.00000</td>\n",
       "    </tr>\n",
       "    <tr>\n",
       "      <th>2</th>\n",
       "      <td>0.097082</td>\n",
       "      <td>0.165458</td>\n",
       "      <td>0.142632</td>\n",
       "      <td>-1.00000</td>\n",
       "    </tr>\n",
       "    <tr>\n",
       "      <th>3</th>\n",
       "      <td>-1.000000</td>\n",
       "      <td>0.311850</td>\n",
       "      <td>0.562218</td>\n",
       "      <td>1.00000</td>\n",
       "    </tr>\n",
       "  </tbody>\n",
       "</table>\n",
       "</div>"
      ],
      "text/plain": [
       "          0         1         2        3\n",
       "0  0.045684  0.026631  0.016628  0.01234\n",
       "1  0.061139 -1.000000 -0.252228 -1.00000\n",
       "2  0.097082  0.165458  0.142632 -1.00000\n",
       "3 -1.000000  0.311850  0.562218  1.00000"
      ]
     },
     "execution_count": 24,
     "metadata": {},
     "output_type": "execute_result"
    }
   ],
   "source": [
    "pl = Planner(env)\n",
    "pl.plan()"
   ]
  },
  {
   "cell_type": "code",
   "execution_count": null,
   "metadata": {},
   "outputs": [],
   "source": []
  }
 ],
 "metadata": {
  "kernelspec": {
   "display_name": "Python 3",
   "language": "python",
   "name": "python3"
  },
  "language_info": {
   "codemirror_mode": {
    "name": "ipython",
    "version": 3
   },
   "file_extension": ".py",
   "mimetype": "text/x-python",
   "name": "python",
   "nbconvert_exporter": "python",
   "pygments_lexer": "ipython3",
   "version": "3.8.2"
  }
 },
 "nbformat": 4,
 "nbformat_minor": 4
}
