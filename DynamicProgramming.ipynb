{
 "cells": [
  {
   "cell_type": "code",
   "execution_count": 1,
   "metadata": {},
   "outputs": [],
   "source": [
    "import gym\n",
    "import pandas as pd"
   ]
  },
  {
   "cell_type": "code",
   "execution_count": 2,
   "metadata": {},
   "outputs": [
    {
     "name": "stdout",
     "output_type": "stream",
     "text": [
      "\n",
      "\u001b[41mS\u001b[0mFFF\n",
      "FHFH\n",
      "FFFH\n",
      "HFFG\n"
     ]
    }
   ],
   "source": [
    "env = gym.make(\"FrozenLake-v0\")\n",
    "env.render()"
   ]
  },
  {
   "cell_type": "markdown",
   "metadata": {},
   "source": [
    "どんな変数があるか確認する"
   ]
  },
  {
   "cell_type": "code",
   "execution_count": 3,
   "metadata": {},
   "outputs": [
    {
     "data": {
      "text/plain": [
       "array([[b'S', b'F', b'F', b'F'],\n",
       "       [b'F', b'H', b'F', b'H'],\n",
       "       [b'F', b'F', b'F', b'H'],\n",
       "       [b'H', b'F', b'F', b'G']], dtype='|S1')"
      ]
     },
     "execution_count": 3,
     "metadata": {},
     "output_type": "execute_result"
    }
   ],
   "source": [
    "# それぞれのマスの型が入っている\n",
    "env.desc"
   ]
  },
  {
   "cell_type": "code",
   "execution_count": 4,
   "metadata": {},
   "outputs": [
    {
     "data": {
      "text/plain": [
       "b'F'"
      ]
     },
     "execution_count": 4,
     "metadata": {},
     "output_type": "execute_result"
    }
   ],
   "source": [
    "env.desc[1][2]"
   ]
  },
  {
   "cell_type": "code",
   "execution_count": 5,
   "metadata": {},
   "outputs": [
    {
     "data": {
      "text/plain": [
       "4"
      ]
     },
     "execution_count": 5,
     "metadata": {},
     "output_type": "execute_result"
    }
   ],
   "source": [
    "env.ncol"
   ]
  },
  {
   "cell_type": "code",
   "execution_count": 6,
   "metadata": {},
   "outputs": [
    {
     "data": {
      "text/plain": [
       "4"
      ]
     },
     "execution_count": 6,
     "metadata": {},
     "output_type": "execute_result"
    }
   ],
   "source": [
    "env.nrow"
   ]
  },
  {
   "cell_type": "code",
   "execution_count": 7,
   "metadata": {},
   "outputs": [
    {
     "data": {
      "text/plain": [
       "16"
      ]
     },
     "execution_count": 7,
     "metadata": {},
     "output_type": "execute_result"
    }
   ],
   "source": [
    "env.nS"
   ]
  },
  {
   "cell_type": "markdown",
   "metadata": {},
   "source": [
    "状態s:どのマスにいるか"
   ]
  },
  {
   "cell_type": "code",
   "execution_count": 8,
   "metadata": {},
   "outputs": [
    {
     "data": {
      "text/plain": [
       "4"
      ]
     },
     "execution_count": 8,
     "metadata": {},
     "output_type": "execute_result"
    }
   ],
   "source": [
    "env.nA"
   ]
  },
  {
   "cell_type": "markdown",
   "metadata": {},
   "source": [
    "行動a:どの方向に、「進みたい」と思うか。0:left,1:down,2:right,3:up"
   ]
  },
  {
   "cell_type": "code",
   "execution_count": 21,
   "metadata": {},
   "outputs": [
    {
     "name": "stdout",
     "output_type": "stream",
     "text": [
      "  (Left)\n",
      "SFFF\n",
      "\u001b[41mF\u001b[0mHFH\n",
      "FFFH\n",
      "HFFG\n"
     ]
    }
   ],
   "source": [
    "env.reset()\n",
    "env.step(0)\n",
    "env.render()"
   ]
  },
  {
   "cell_type": "code",
   "execution_count": 22,
   "metadata": {},
   "outputs": [
    {
     "data": {
      "text/plain": [
       "0"
      ]
     },
     "execution_count": 22,
     "metadata": {},
     "output_type": "execute_result"
    }
   ],
   "source": [
    "env.reset()"
   ]
  },
  {
   "cell_type": "code",
   "execution_count": 23,
   "metadata": {},
   "outputs": [
    {
     "name": "stdout",
     "output_type": "stream",
     "text": [
      "  (Down)\n",
      "SFFF\n",
      "\u001b[41mF\u001b[0mHFH\n",
      "FFFH\n",
      "HFFG\n"
     ]
    }
   ],
   "source": [
    "env.step(1)\n",
    "env.render()"
   ]
  },
  {
   "cell_type": "code",
   "execution_count": 24,
   "metadata": {},
   "outputs": [
    {
     "name": "stdout",
     "output_type": "stream",
     "text": [
      "  (Right)\n",
      "\u001b[41mS\u001b[0mFFF\n",
      "FHFH\n",
      "FFFH\n",
      "HFFG\n"
     ]
    }
   ],
   "source": [
    "env.step(2)\n",
    "env.render()"
   ]
  },
  {
   "cell_type": "code",
   "execution_count": 31,
   "metadata": {},
   "outputs": [
    {
     "name": "stdout",
     "output_type": "stream",
     "text": [
      "  (Up)\n",
      "SF\u001b[41mF\u001b[0mF\n",
      "FHFH\n",
      "FFFH\n",
      "HFFG\n"
     ]
    }
   ],
   "source": [
    "env.step(3)\n",
    "env.render()"
   ]
  },
  {
   "cell_type": "code",
   "execution_count": 33,
   "metadata": {},
   "outputs": [
    {
     "data": {
      "text/plain": [
       "[(0.3333333333333333, 0, 0.0, False),\n",
       " (0.3333333333333333, 5, 0.0, True),\n",
       " (0.3333333333333333, 2, 0.0, False)]"
      ]
     },
     "execution_count": 33,
     "metadata": {},
     "output_type": "execute_result"
    }
   ],
   "source": [
    "env.P[1][1]"
   ]
  },
  {
   "cell_type": "markdown",
   "metadata": {},
   "source": [
    "P = {s: {a: prob, next_s}}"
   ]
  },
  {
   "cell_type": "markdown",
   "metadata": {},
   "source": [
    "実際にゲームを進めていくコードを書く"
   ]
  },
  {
   "cell_type": "code",
   "execution_count": 35,
   "metadata": {},
   "outputs": [],
   "source": [
    "import pandas as pd\n",
    "\n",
    "class Planner:\n",
    "    def __init__(self, env):\n",
    "        self.env = env\n",
    "        \n",
    "    def s_to_loc(self, s):\n",
    "        row = s // self.env.ncol\n",
    "        col = s % self.env.ncol\n",
    "        return row, col\n",
    "    \n",
    "    def reward(self, s):\n",
    "        row, col = self.s_to_loc(s)\n",
    "        if self.env.desc[row][col] == b'H':\n",
    "            return -1\n",
    "        elif self.env.desc[row][col] == b'G':\n",
    "            return 1\n",
    "        else:\n",
    "            return 0"
   ]
  },
  {
   "cell_type": "code",
   "execution_count": 38,
   "metadata": {},
   "outputs": [
    {
     "name": "stdout",
     "output_type": "stream",
     "text": [
      "  (Up)\n",
      "SF\u001b[41mF\u001b[0mF\n",
      "FHFH\n",
      "FFFH\n",
      "HFFG\n"
     ]
    }
   ],
   "source": [
    "pl = Planner(env)\n",
    "pl.env.render()"
   ]
  },
  {
   "cell_type": "code",
   "execution_count": 44,
   "metadata": {},
   "outputs": [
    {
     "data": {
      "text/plain": [
       "1"
      ]
     },
     "execution_count": 44,
     "metadata": {},
     "output_type": "execute_result"
    }
   ],
   "source": [
    "pl.reward(15)"
   ]
  },
  {
   "cell_type": "markdown",
   "metadata": {},
   "source": [
    "## 2.1. 動的計画法\n",
    "* 状態sに対して、価値V(s)を計算する\n",
    "* 価値が最大になる行動を取る\n",
    "\n",
    " - 状態の価値:その状態のますにおける報酬 + ますから最善の行動をしたときにもらえる報酬"
   ]
  },
  {
   "cell_type": "markdown",
   "metadata": {},
   "source": [
    "R(s): 状態sでの報酬\n",
    "$$V(s) = R(s) + \\gamma \\max_a \\sum_{s^{\\prime}} T(s^{\\prime} |s, a) V(s^{\\prime})$$\n",
    "\n",
    "T(s'|s,a):sからaという行動をとったときにs'にいける遷移確率\n",
    "V(s'):s'における価値\n",
    "\n",
    "P = {s: {a: prob, next_s}}\n",
    "* 価値反復法\n",
    "\n",
    "最初、V(s)を適当に決める。V0=0とすると\n",
    "$$V_1(s) = R(s)$$\n",
    "$$V_2(s) = R(s) + \\gamma \\max_a \\sum_{s^\\prime} T(s^{\\prime} | s, a)R(s^{\\prime})$$\n",
    "$$V_3(s) = R(s) + \\gamma \\max_a \\sum_{s^\\prime} T(s^{\\prime} | s, a)V_2(s^{\\prime})$$\n",
    "\n",
    "一般化すると、\n",
    "\n",
    "$$V_{i+1}(s) = R(s) + \\gamma \\max_a \\sum_{s^\\prime} T(s^{\\prime} | s, a)V_i(s^{\\prime})$$"
   ]
  },
  {
   "cell_type": "markdown",
   "metadata": {},
   "source": [
    "反復の終了は、\n",
    "$$|V_{i+1}(s) - V_i(s)| < 0.0001$$\n",
    "となったら終了"
   ]
  },
  {
   "cell_type": "code",
   "execution_count": 52,
   "metadata": {},
   "outputs": [],
   "source": [
    "import gym\n",
    "import pandas as pd\n",
    "\n",
    "import pandas as pd\n",
    "\n",
    "class Planner:\n",
    "    def __init__(self, env):\n",
    "        self.env = env\n",
    "        \n",
    "    def s_to_loc(self, s):\n",
    "        row = s // self.env.ncol\n",
    "        col = s % self.env.ncol\n",
    "        return row, col\n",
    "    \n",
    "    def reward(self, s):\n",
    "        row, col = self.s_to_loc(s)\n",
    "        if self.env.desc[row][col] == b'H':\n",
    "            return -1\n",
    "        elif self.env.desc[row][col] == b'G':\n",
    "            return 1\n",
    "        else:\n",
    "            return 0\n",
    "    \n",
    "    def plan(self, gamma=0.9, threshold=0.0001):\n",
    "        self.env.reset()\n",
    "        V = {}\n",
    "        # 状態の価値をその場所の報酬で初期化\n",
    "        for s in range(self.env.nS):\n",
    "            V[s] = self.reward(s)\n",
    "        while True:\n",
    "            delta = 0\n",
    "            for s in V:\n",
    "                row, col = self.s_to_loc(s)\n",
    "                if self.env.desc[row][col] in [b'H', b'G']:\n",
    "                    continue\n",
    "                expected_rewards = []\n",
    "                for a in range(self.env.nA):\n",
    "                    r = 0\n",
    "                    for prob, next_s, _, _ in self.env.P[s][a]:\n",
    "                        r += gamma * prob * V[next_s]\n",
    "                    expected_rewards.append(r)\n",
    "                max_reward = max(expected_rewards)\n",
    "                new_V = self.reward(s) + max_reward\n",
    "            \n",
    "                # |V_i+1 - V_i|\n",
    "                delta = max(delta, abs(new_V - V[s]))\n",
    "                V[s] = new_V\n",
    "            \n",
    "            if delta < threshold:\n",
    "                break\n",
    "                \n",
    "        return self.dict_to_grid(V)\n",
    "    \n",
    "    def dict_to_grid(self, V):\n",
    "        grid = []\n",
    "        for i in range(self.env.nrow):\n",
    "            row = [0] * self.env.ncol\n",
    "            grid.append(row)\n",
    "        for s in V:\n",
    "            row, col = self.s_to_loc(s)\n",
    "            grid[row][col] = V[s]\n",
    "        return pd.DataFrame(grid)"
   ]
  },
  {
   "cell_type": "code",
   "execution_count": 53,
   "metadata": {},
   "outputs": [
    {
     "data": {
      "text/html": [
       "<div>\n",
       "<style scoped>\n",
       "    .dataframe tbody tr th:only-of-type {\n",
       "        vertical-align: middle;\n",
       "    }\n",
       "\n",
       "    .dataframe tbody tr th {\n",
       "        vertical-align: top;\n",
       "    }\n",
       "\n",
       "    .dataframe thead th {\n",
       "        text-align: right;\n",
       "    }\n",
       "</style>\n",
       "<table border=\"1\" class=\"dataframe\">\n",
       "  <thead>\n",
       "    <tr style=\"text-align: right;\">\n",
       "      <th></th>\n",
       "      <th>0</th>\n",
       "      <th>1</th>\n",
       "      <th>2</th>\n",
       "      <th>3</th>\n",
       "    </tr>\n",
       "  </thead>\n",
       "  <tbody>\n",
       "    <tr>\n",
       "      <th>0</th>\n",
       "      <td>0.045684</td>\n",
       "      <td>0.026631</td>\n",
       "      <td>0.016628</td>\n",
       "      <td>0.01234</td>\n",
       "    </tr>\n",
       "    <tr>\n",
       "      <th>1</th>\n",
       "      <td>0.061139</td>\n",
       "      <td>-1.000000</td>\n",
       "      <td>-0.252228</td>\n",
       "      <td>-1.00000</td>\n",
       "    </tr>\n",
       "    <tr>\n",
       "      <th>2</th>\n",
       "      <td>0.097082</td>\n",
       "      <td>0.165458</td>\n",
       "      <td>0.142632</td>\n",
       "      <td>-1.00000</td>\n",
       "    </tr>\n",
       "    <tr>\n",
       "      <th>3</th>\n",
       "      <td>-1.000000</td>\n",
       "      <td>0.311850</td>\n",
       "      <td>0.562218</td>\n",
       "      <td>1.00000</td>\n",
       "    </tr>\n",
       "  </tbody>\n",
       "</table>\n",
       "</div>"
      ],
      "text/plain": [
       "          0         1         2        3\n",
       "0  0.045684  0.026631  0.016628  0.01234\n",
       "1  0.061139 -1.000000 -0.252228 -1.00000\n",
       "2  0.097082  0.165458  0.142632 -1.00000\n",
       "3 -1.000000  0.311850  0.562218  1.00000"
      ]
     },
     "execution_count": 53,
     "metadata": {},
     "output_type": "execute_result"
    }
   ],
   "source": [
    "pl = Planner(env)\n",
    "pl.plan()"
   ]
  },
  {
   "cell_type": "code",
   "execution_count": null,
   "metadata": {},
   "outputs": [],
   "source": []
  }
 ],
 "metadata": {
  "kernelspec": {
   "display_name": "Python 3",
   "language": "python",
   "name": "python3"
  },
  "language_info": {
   "codemirror_mode": {
    "name": "ipython",
    "version": 3
   },
   "file_extension": ".py",
   "mimetype": "text/x-python",
   "name": "python",
   "nbconvert_exporter": "python",
   "pygments_lexer": "ipython3",
   "version": "3.8.2"
  }
 },
 "nbformat": 4,
 "nbformat_minor": 4
}
