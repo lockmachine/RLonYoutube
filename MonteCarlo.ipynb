{
 "cells": [
  {
   "cell_type": "markdown",
   "metadata": {},
   "source": [
    "# 3.モンテカルロ法"
   ]
  },
  {
   "cell_type": "code",
   "execution_count": 33,
   "metadata": {},
   "outputs": [
    {
     "name": "stdout",
     "output_type": "stream",
     "text": [
      "\n",
      "\u001b[41mS\u001b[0mFFF\n",
      "FHFH\n",
      "FFFH\n",
      "HFFG\n"
     ]
    }
   ],
   "source": [
    "import gym\n",
    "import numpy as np\n",
    "import pandas as pd\n",
    "\n",
    "env = gym.make('FrozenLake-v0', is_slippery=False)\n",
    "env.render()"
   ]
  },
  {
   "cell_type": "markdown",
   "metadata": {},
   "source": [
    "* 「ゲームをやってみた結果、もらった報酬」を元に価値計算\n",
    "* 今回の「価値」は、Q(s, a)で表される、「行動の価値」"
   ]
  },
  {
   "cell_type": "code",
   "execution_count": 2,
   "metadata": {},
   "outputs": [],
   "source": [
    "class MonteCarlo:\n",
    "    def __init__(self, env):\n",
    "        self.env = env\n",
    "        self.Q = {}\n",
    "        self.initialize()\n",
    "    \n",
    "    # Q値（各状態における各行動の価値）を初期化\n",
    "    def initialize(self):\n",
    "        for s in range(self.env.nS):\n",
    "            self.Q[s] = [0] * self.env.nA\n",
    "        self.env.reset()"
   ]
  },
  {
   "cell_type": "code",
   "execution_count": 3,
   "metadata": {},
   "outputs": [
    {
     "data": {
      "text/plain": [
       "{0: [0, 0, 0, 0],\n",
       " 1: [0, 0, 0, 0],\n",
       " 2: [0, 0, 0, 0],\n",
       " 3: [0, 0, 0, 0],\n",
       " 4: [0, 0, 0, 0],\n",
       " 5: [0, 0, 0, 0],\n",
       " 6: [0, 0, 0, 0],\n",
       " 7: [0, 0, 0, 0],\n",
       " 8: [0, 0, 0, 0],\n",
       " 9: [0, 0, 0, 0],\n",
       " 10: [0, 0, 0, 0],\n",
       " 11: [0, 0, 0, 0],\n",
       " 12: [0, 0, 0, 0],\n",
       " 13: [0, 0, 0, 0],\n",
       " 14: [0, 0, 0, 0],\n",
       " 15: [0, 0, 0, 0]}"
      ]
     },
     "execution_count": 3,
     "metadata": {},
     "output_type": "execute_result"
    }
   ],
   "source": [
    "mc = MonteCarlo(env)\n",
    "mc.Q"
   ]
  },
  {
   "cell_type": "markdown",
   "metadata": {},
   "source": [
    "## 3.1モンテカルロ法の理論\n",
    "Q(s,a)は、「状態sでaという行動をしたときに、ゲーム終了までに得られる報酬」で決める。\n",
    "\n",
    "$$G_t = r_{t+1} + r_{t+2} + \\cdots + r_T$$\n",
    "\n",
    "今回はゲーム終了時にしか報酬をもらえないため、結局は$G_t = r_T$となる\n",
    "\n",
    "ただ、未来でもらえる報酬は不確かな値なので、「割引」$\\gamma$をかける。\n",
    "$$G_t = r_{t+1} + \\gamma r_{t+2} + \\gamma^2 r_{t+3} + \\cdots + \\gamma^{T-t-1} r_T$$\n",
    "これを、「割引現在価値」という。\n",
    "$$Q(s,a) \\leftarrow Q(s,a) + \\alpha (G_t - Q(s,a))$$\n",
    "\n",
    "$\\alpha$は、「学習率」で0から1を取る。Qの更新は1ゲーム終了したら行われる。"
   ]
  },
  {
   "cell_type": "code",
   "execution_count": 42,
   "metadata": {},
   "outputs": [],
   "source": [
    "class MonteCarlo:\n",
    "    def __init__(self, env):\n",
    "        self.env = env\n",
    "        self.Q = {}\n",
    "        self.initialize()\n",
    "        self.reward_log = []\n",
    "    \n",
    "    # Q値（各状態における各行動の価値）を初期化\n",
    "    def initialize(self):\n",
    "        for s in range(self.env.nS):\n",
    "            self.Q[s] = [0] * self.env.nA\n",
    "        self.env.reset()\n",
    "    \n",
    "    def policy(self, s, epsilon=0.1):\n",
    "        if np.random.random() < 0.1:\n",
    "            return np.random.randint(self.env.nA)\n",
    "        else:\n",
    "            if sum(self.Q[s]) == 0:\n",
    "                return np.random.randint(self.env.nA)\n",
    "            else:\n",
    "                return np.argmax(self.Q[s])\n",
    "    \n",
    "    # モンテカルロ法実行フェーズ\n",
    "    def learn(self, episode_count=1000, gamma=0.9, alpha=0.8):\n",
    "        # エピソードの反復\n",
    "        for e in range(episode_count):\n",
    "            done = False\n",
    "            experience_log = []\n",
    "            s = 0\n",
    "            self.env.reset()\n",
    "            \n",
    "            # エピソードを実行→エピソードの終了まで実行\n",
    "            while not done:\n",
    "                # とりあえずランダムに行動を選択\n",
    "                a = self.policy(s)\n",
    "                # 行動を実行して、次の状態:next_s、報酬:reward、終了したかどうか:doneを取得する\n",
    "                next_s, reward, done, _ = self.env.step(a)\n",
    "                #　「現在の状態」から「ある行動」をとったときの「価値」と「次の状態」をログとして保存する\n",
    "                experience_log.append({'state':s, 'action':a, 'reward':reward, 'next_state':next_s})\n",
    "                s = next_s\n",
    "            else:\n",
    "                self.reward_log.append(reward)\n",
    "            \n",
    "            # エピソードで取得したログからQ値を更新\n",
    "            for t, experience in enumerate(experience_log):\n",
    "                G = 0\n",
    "                i = 0\n",
    "                # エピソードでt回目にいた状態、行動の組み合わせにおける割引現在価値を計算\n",
    "                s = experience['state']\n",
    "                a = experience['action']\n",
    "                for j in range(t, len(experience_log)):\n",
    "                    G += (gamma**i) * experience_log[j]['reward']\n",
    "                    i += 1\n",
    "                # Q値の更新\n",
    "                self.Q[s][a] += alpha * (G - self.Q[s][a])\n",
    "        #return self.Q\n",
    "        #return self.reward_log\n",
    "    \n",
    "    def show_reward(self, interval=50):\n",
    "        average_reward = []\n",
    "        for e in range(0, len(self.reward_log), interval):\n",
    "            average_reward.append(np.mean(self.reward_log[e:e+interval]))\n",
    "        return pd.Series(average_reward)"
   ]
  },
  {
   "cell_type": "markdown",
   "metadata": {},
   "source": [
    "確率10％:探索、確率90％:活用  \n",
    "探索：ランダムに行動する  \n",
    "活用:Q(s,a)から最善の行動をとる"
   ]
  },
  {
   "cell_type": "code",
   "execution_count": 43,
   "metadata": {},
   "outputs": [],
   "source": [
    "mc = MonteCarlo(env)\n",
    "mc.learn()"
   ]
  },
  {
   "cell_type": "code",
   "execution_count": 46,
   "metadata": {},
   "outputs": [
    {
     "data": {
      "text/plain": [
       "[<matplotlib.lines.Line2D at 0x7fed9af71340>]"
      ]
     },
     "execution_count": 46,
     "metadata": {},
     "output_type": "execute_result"
    },
    {
     "data": {
      "image/png": "[encoded data removed]",
      "text/plain": [
       "<Figure size 432x288 with 1 Axes>"
      ]
     },
     "metadata": {
      "needs_background": "light"
     },
     "output_type": "display_data"
    }
   ],
   "source": [
    "import matplotlib.pyplot as plt\n",
    "plt.plot(mc.show_reward())"
   ]
  }
 ],
 "metadata": {
  "kernelspec": {
   "display_name": "Python 3",
   "language": "python",
   "name": "python3"
  },
  "language_info": {
   "codemirror_mode": {
    "name": "ipython",
    "version": 3
   },
   "file_extension": ".py",
   "mimetype": "text/x-python",
   "name": "python",
   "nbconvert_exporter": "python",
   "pygments_lexer": "ipython3",
   "version": "3.8.2"
  }
 },
 "nbformat": 4,
 "nbformat_minor": 4
}
