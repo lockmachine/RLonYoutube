{
 "cells": [
  {
   "cell_type": "markdown",
   "metadata": {},
   "source": [
    "## 4. Q-learningとSARSA\n",
    "更新式\n",
    "$$Q(s,a) \\leftarrow Q(s,a) + \\alpha (G_t - Q(s,a))$$\n",
    "モンテカルロ法:\n",
    "$$G_t = r_{t+1} + \\gamma r_{t+2} + \\gamma^2 r_{t+3} + \\cdots + \\gamma^{T-t-1} r_T$$\n",
    "Q-learning:\n",
    "$$G_t = r_{t+1} + \\gamma \\max_a [Q(s_{t+1},a)]$$\n",
    "SARSA(State-Action-Reward-State-Action):\n",
    "$$G_t = r_{t+1} + \\gamma Q(s_{t+1},a_{t+1})$$\n",
    "ただし、\n",
    "$$a_{t+1} = \\pi(s_{t+1})$$\n",
    "$\\pi$はpolicy"
   ]
  },
  {
   "cell_type": "code",
   "execution_count": 9,
   "metadata": {},
   "outputs": [],
   "source": [
    "import gym\n",
    "import numpy as np\n",
    "import pandas as pd\n",
    "import matplotlib.pyplot as plt\n",
    "\n",
    "class Agent:\n",
    "    def __init__(self, env):\n",
    "        self.env = env\n",
    "        self.Q = {}\n",
    "        self.initialize()\n",
    "        self.reward_log = []\n",
    "    \n",
    "    # Q値（各状態における各行動の価値）を初期化\n",
    "    def initialize(self):\n",
    "        for s in range(self.env.nS):\n",
    "            self.Q[s] = [0] * self.env.nA\n",
    "        self.env.reset()\n",
    "    \n",
    "    def policy(self, s, epsilon=0.1):\n",
    "        if np.random.random() < 0.1:\n",
    "            return np.random.randint(self.env.nA)\n",
    "        else:\n",
    "            if sum(self.Q[s]) == 0:\n",
    "                return np.random.randint(self.env.nA)\n",
    "            else:\n",
    "                return np.argmax(self.Q[s])\n",
    "    \n",
    "    # モンテカルロ法実行フェーズ\n",
    "    def montecarlo(self, episode_count=1000, gamma=0.9, alpha=0.8):\n",
    "        # エピソードの反復\n",
    "        for e in range(episode_count):\n",
    "            done = False\n",
    "            experience_log = []\n",
    "            s = 0\n",
    "            self.env.reset()\n",
    "            \n",
    "            # エピソードを実行→エピソードの終了まで実行\n",
    "            while not done:\n",
    "                # policyに従って行動する\n",
    "                a = self.policy(s)\n",
    "                # 行動を実行して、次の状態:next_s、報酬:reward、終了したかどうか:doneを取得する\n",
    "                next_s, reward, done, _ = self.env.step(a)\n",
    "                #　「現在の状態」から「ある行動」をとったときの「価値」と「次の状態」をログとして保存する\n",
    "                experience_log.append({'state':s, 'action':a, 'reward':reward, 'next_state':next_s})\n",
    "                s = next_s\n",
    "            else:\n",
    "                self.reward_log.append(reward)\n",
    "            \n",
    "            # エピソードで取得したログからQ値を更新\n",
    "            for t, experience in enumerate(experience_log):\n",
    "                G = 0\n",
    "                i = 0\n",
    "                # エピソードでt回目にいた状態、行動の組み合わせにおける割引現在価値を計算\n",
    "                s = experience['state']\n",
    "                a = experience['action']\n",
    "                for j in range(t, len(experience_log)):\n",
    "                    G += (gamma**i) * experience_log[j]['reward']\n",
    "                    i += 1\n",
    "                # Q値の更新\n",
    "                self.Q[s][a] += alpha * (G - self.Q[s][a])\n",
    "        #return self.Q\n",
    "        #return self.reward_log\n",
    "    \n",
    "    # Q-learning実行フェーズ\n",
    "    def q_learning(self, episode_count=1000, gamma=0.9, alpha=0.8):\n",
    "        # エピソードの反復\n",
    "        for e in range(episode_count):\n",
    "            self.env.reset()\n",
    "            done = False\n",
    "            s = 0\n",
    "            self.env.reset()\n",
    "            \n",
    "            # エピソードを実行→エピソードの終了まで実行\n",
    "            while not done:\n",
    "                # policyに従って行動する\n",
    "                a = self.policy(s)\n",
    "                # 行動を実行して、次の状態:next_s、報酬:reward、終了したかどうか:doneを取得する\n",
    "                next_s, reward, done, _ = self.env.step(a)\n",
    "                \n",
    "                G = reward + gamma * np.max(self.Q[next_s])\n",
    "                # Q値の更新\n",
    "                self.Q[s][a] += alpha * (G - self.Q[s][a])\n",
    "                \n",
    "                s = next_s\n",
    "            else:\n",
    "                self.reward_log.append(reward)\n",
    "            \n",
    "    # SARSA実行フェーズ\n",
    "    def sarsa(self, episode_count=1000, gamma=0.9, alpha=0.8):\n",
    "        # エピソードの反復\n",
    "        for e in range(episode_count):\n",
    "            self.env.reset()\n",
    "            done = False\n",
    "            s = 0\n",
    "            self.env.reset()\n",
    "            \n",
    "            # policyに従って行動する\n",
    "            a = self.policy(s)\n",
    "            \n",
    "            # エピソードを実行→エピソードの終了まで実行\n",
    "            while not done:\n",
    "                # 行動を実行して、次の状態:next_s、報酬:reward、終了したかどうか:doneを取得する\n",
    "                next_s, reward, done, _ = self.env.step(a)\n",
    "                \n",
    "                # 価値算出のために次の状態における行動を決めておく\n",
    "                next_a = self.policy(next_s)\n",
    "                \n",
    "                G = reward + gamma * self.Q[next_s][next_a]\n",
    "                # Q値の更新\n",
    "                self.Q[s][a] += alpha * (G - self.Q[s][a])\n",
    "                \n",
    "                s = next_s\n",
    "                a = next_a\n",
    "            else:\n",
    "                self.reward_log.append(reward)    \n",
    "    def show_reward(self, interval=50):\n",
    "        average_reward = []\n",
    "        for e in range(0, len(self.reward_log), interval):\n",
    "            average_reward.append(np.mean(self.reward_log[e:e+interval]))\n",
    "        return pd.Series(average_reward).plot()"
   ]
  },
  {
   "cell_type": "code",
   "execution_count": 7,
   "metadata": {},
   "outputs": [
    {
     "name": "stdout",
     "output_type": "stream",
     "text": [
      "\n",
      "\u001b[41mS\u001b[0mFFF\n",
      "FHFH\n",
      "FFFH\n",
      "HFFG\n"
     ]
    }
   ],
   "source": [
    "import gym\n",
    "\n",
    "env = gym.make('FrozenLake-v0', is_slippery=False)\n",
    "env.render()"
   ]
  },
  {
   "cell_type": "code",
   "execution_count": 8,
   "metadata": {},
   "outputs": [
    {
     "data": {
      "text/plain": [
       "<matplotlib.axes._subplots.AxesSubplot at 0x7fcd56c9dc10>"
      ]
     },
     "execution_count": 8,
     "metadata": {},
     "output_type": "execute_result"
    },
    {
     "data": {
      "image/png": "[encoded data removed]",
      "text/plain": [
       "<Figure size 432x288 with 1 Axes>"
      ]
     },
     "metadata": {
      "needs_background": "light"
     },
     "output_type": "display_data"
    }
   ],
   "source": [
    "agent = Agent(env)\n",
    "agent.q_learning()\n",
    "agent.show_reward()"
   ]
  },
  {
   "cell_type": "code",
   "execution_count": 11,
   "metadata": {},
   "outputs": [
    {
     "data": {
      "text/plain": [
       "<matplotlib.axes._subplots.AxesSubplot at 0x7fcd563f3130>"
      ]
     },
     "execution_count": 11,
     "metadata": {},
     "output_type": "execute_result"
    },
    {
     "data": {
      "image/png": "[encoded data removed]",
      "text/plain": [
       "<Figure size 432x288 with 1 Axes>"
      ]
     },
     "metadata": {
      "needs_background": "light"
     },
     "output_type": "display_data"
    }
   ],
   "source": [
    "agent = Agent(env)\n",
    "agent.sarsa()\n",
    "agent.show_reward()"
   ]
  },
  {
   "cell_type": "code",
   "execution_count": 12,
   "metadata": {},
   "outputs": [
    {
     "data": {
      "text/plain": [
       "13.265678233669979"
      ]
     },
     "execution_count": 12,
     "metadata": {},
     "output_type": "execute_result"
    }
   ],
   "source": [
    "q_sum = 0\n",
    "for s in agent.Q:\n",
    "    q_sum += sum(agent.Q[s])\n",
    "q_sum"
   ]
  },
  {
   "cell_type": "code",
   "execution_count": 13,
   "metadata": {},
   "outputs": [
    {
     "data": {
      "text/plain": [
       "16.280830899965434"
      ]
     },
     "execution_count": 13,
     "metadata": {},
     "output_type": "execute_result"
    }
   ],
   "source": [
    "agent.initialize()\n",
    "agent.q_learning()\n",
    "q_sum = 0\n",
    "for s in agent.Q:\n",
    "    q_sum += sum(agent.Q[s])\n",
    "q_sum"
   ]
  },
  {
   "cell_type": "markdown",
   "metadata": {},
   "source": [
    "## 5. Actor-Critic法"
   ]
  },
  {
   "cell_type": "code",
   "execution_count": 24,
   "metadata": {},
   "outputs": [],
   "source": [
    "import gym\n",
    "import numpy as np\n",
    "import pandas as pd\n",
    "import matplotlib.pyplot as plt\n",
    "# 今までで言うAgent\n",
    "class Actor:\n",
    "    def __init__(self, env):\n",
    "        self.env = env\n",
    "        self.Q = {}\n",
    "        self.initialize()\n",
    "    \n",
    "    # Q値（各状態における各行動の価値）を初期化\n",
    "    def initialize(self):\n",
    "        for s in range(self.env.nS):\n",
    "            self.Q[s] = [0] * self.env.nA\n",
    "        self.env.reset()\n",
    "    \n",
    "    def policy(self, s, epsilon=0.1):\n",
    "        if np.random.random() < 0.1:\n",
    "            return np.random.randint(self.env.nA)\n",
    "        else:\n",
    "            if sum(self.Q[s]) == 0:\n",
    "                return np.random.randint(self.env.nA)\n",
    "            else:\n",
    "                return np.argmax(self.Q[s])\n",
    "    \n",
    "# 評価だけするクラス\n",
    "class Critic:\n",
    "    def __init__(self, env):\n",
    "        self.V = np.zeros(env.nS)\n",
    "        \n",
    "class ActorCritic:\n",
    "    def __init__(self, env, actor_class, critic_class):\n",
    "        self.env = env\n",
    "        self.actor_class = actor_class\n",
    "        self.critic_class = critic_class\n",
    "        self.reward_log = []\n",
    "        \n",
    "    def learn(self, episode_count=1000, gamma=0.9, alpha=0.8):\n",
    "        actor = self.actor_class(self.env)\n",
    "        critic = self.critic_class(self.env)\n",
    "        # エピソードの反復\n",
    "        for e in range(episode_count):\n",
    "            self.env.reset()\n",
    "            done = False\n",
    "            s = 0\n",
    "            self.env.reset()\n",
    "            \n",
    "            # エピソードを実行→エピソードの終了まで実行\n",
    "            while not done:\n",
    "                # policyに従って行動する\n",
    "                a = actor.policy(s)\n",
    "                # 行動を実行して、次の状態:next_s、報酬:reward、終了したかどうか:doneを取得する\n",
    "                next_s, reward, done, _ = self.env.step(a)\n",
    "                \n",
    "                G = reward + gamma * critic.V[next_s]\n",
    "                # Q値の更新\n",
    "                actor.Q[s][a] += alpha * (G - critic.V[s])\n",
    "                critic.V[s] += alpha * (G - critic.V[s])\n",
    "                \n",
    "                s = next_s\n",
    "            else:\n",
    "                self.reward_log.append(reward)\n",
    "\n",
    "    def show_reward(self, interval=50):\n",
    "        average_reward = []\n",
    "        for e in range(0, len(self.reward_log), interval):\n",
    "            average_reward.append(np.mean(self.reward_log[e:e+interval]))\n",
    "        return pd.Series(average_reward).plot()"
   ]
  },
  {
   "cell_type": "code",
   "execution_count": 22,
   "metadata": {},
   "outputs": [],
   "source": [
    "ac = ActorCritic(env, Actor, Critic)\n",
    "ac.learn()"
   ]
  },
  {
   "cell_type": "code",
   "execution_count": 23,
   "metadata": {},
   "outputs": [
    {
     "data": {
      "text/plain": [
       "<matplotlib.axes._subplots.AxesSubplot at 0x7fcd5636eb20>"
      ]
     },
     "execution_count": 23,
     "metadata": {},
     "output_type": "execute_result"
    },
    {
     "data": {
      "image/png": "[encoded data removed]",
      "text/plain": [
       "<Figure size 432x288 with 1 Axes>"
      ]
     },
     "metadata": {
      "needs_background": "light"
     },
     "output_type": "display_data"
    }
   ],
   "source": [
    "ac.show_reward()"
   ]
  },
  {
   "cell_type": "code",
   "execution_count": null,
   "metadata": {},
   "outputs": [],
   "source": []
  }
 ],
 "metadata": {
  "kernelspec": {
   "display_name": "Python 3",
   "language": "python",
   "name": "python3"
  },
  "language_info": {
   "codemirror_mode": {
    "name": "ipython",
    "version": 3
   },
   "file_extension": ".py",
   "mimetype": "text/x-python",
   "name": "python",
   "nbconvert_exporter": "python",
   "pygments_lexer": "ipython3",
   "version": "3.8.2"
  }
 },
 "nbformat": 4,
 "nbformat_minor": 4
}
